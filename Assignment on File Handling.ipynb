{
 "cells": [
  {
   "cell_type": "code",
   "execution_count": 1,
   "id": "575bb00a",
   "metadata": {},
   "outputs": [
    {
     "name": "stdout",
     "output_type": "stream",
     "text": [
      "ï»¿Santhanam, Jayendhran <jayendhran.ms@accenture.com>; Bhattacharjee, Sankalan <s.t.bhattacharjee@accenture.com>; Bansal, Vaishnavi <vaishnavi.a.bansal@accenture.com>; Chandra Shekhar, Pavuluri <p.a.chandra.shekhar@accenture.com>; J Doshi, Hiren <hiren.j.doshi@accenture.com>; Shimoga Prakash, Jeevan <j.shimoga.prakash@accenture.com>; Akhouri, Shreyash <shreyash.akhouri@accenture.com>; Nath, Nupanga <nupanga.nath@accenture.com>; Ponna, Ramesh <r.ponna@accenture.com>; Singhal, Aditya <aditya.d.singhal@accenture.com>; Gorai, Sumit <sumit.gorai@accenture.com>; Valdez, Mariele Dyan Francely <mariele.dyan.valdez@accenture.com>; Cancel, Abigail Kyle <abigail.kyle.cancel@accenture.com>; BONDALAKUNTA, POOJITHA <p.bondalakunta@accenture.com>; priyanka uppala, sai <sai.priyanka.uppala@accenture.com>; Nitin SHINDE, NIKHIL <nikhil.nitin.shinde@accenture.com>; Chidre, Swapna <swapna.chidre@accenture.com>; Sahu, Swastik <s.satyapragyan.sahu@accenture.com>; Sikka, Ankit <ankit.sikka@accenture.com>; Dara, Sai Madhukar <sai.madhukar.dara@accenture.com>; Pattanshetti, Sampreet <s.pattanshetti@accenture.com>; Sharma, Ayush <ayush.ad.sharma@accenture.com>; Latorena, Zairous Jay <zairous.jay.latorena@accenture.com>; Abhimanyu Pradhan, Roshankumar <r.abhimanyu.pradhan@accenture.com>; Jaiswal, Lehar <lehar.jaiswal@accenture.com>; Gupta, Retik <retik.gupta@accenture.com>; Satti, Phanindra Reddy <phanindra.r.satti@accenture.com>; Kumar, Manish <manish.dw.kumar@accenture.com>; Balakrishnan, Devi Priya <devi.p.balakrishnan@accenture.com>; M S, Roshni Priya <roshni.priya.m.s@accenture.com>; Cheerala, Vanaja <vanaja.cheerala@accenture.com>; G D, Chandrashekhar <chandrashekhar.g.d@accenture.com>; Nikhil Reddy, Madithati <m.nikhil.reddy@accenture.com>; Santos, Jeroshelle V. <jeroshelle.v.santos@accenture.com>; Milan, Gerald John <gerald.john.milan@accenture.com>; Gupta, Vivek <vivek.u.gupta@accenture.com>; Mandal, Sumit <s.sunilkumar.mandal@accenture.com>; Prakash Shukla, Ashok <ashok.prakash.shukla@accenture.com>; Naganathan, Siva <sivakumar.naganathan@accenture.com>; GAHLOT, NIKHIL <nikhil.gahlot@accenture.com>; Kanjilal, Sourav <s.a.kanti.kanjilal@accenture.com>; Nallagoni, Omkar <omkar.nallagoni@accenture.com>; Sahajan, Sandra <sandra.sahajan@accenture.com>; Nelluri, Chaitanya <chaitanya.nelluri@accenture.com>\n"
     ]
    }
   ],
   "source": [
    "file_location=\"C:\\\\Users\\\\dell\\\\emails.txt\"\n",
    "\n",
    "file= open(file_location,mode='r')\n",
    "\n",
    "print(file.read())"
   ]
  },
  {
   "cell_type": "code",
   "execution_count": 2,
   "id": "5e29022a",
   "metadata": {},
   "outputs": [
    {
     "data": {
      "text/plain": [
       "'C:\\\\Users\\\\dell'"
      ]
     },
     "execution_count": 2,
     "metadata": {},
     "output_type": "execute_result"
    }
   ],
   "source": [
    "import os\n",
    "os.getcwd()"
   ]
  },
  {
   "cell_type": "code",
   "execution_count": 8,
   "id": "dda86b43",
   "metadata": {},
   "outputs": [
    {
     "name": "stdout",
     "output_type": "stream",
     "text": [
      "Santhanam, Jayendhran <jayendhran.ms@accenture.com>; Bhattacharjee, Sankalan <s.t.bhattacharjee@accenture.com>; Bansal, Vaishnavi <vaishnavi.a.bansal@accenture.com>; Chandra Shekhar, Pavuluri <p.a.chandra.shekhar@accenture.com>; J Doshi, Hiren <hiren.j.doshi@accenture.com>; Shimoga Prakash, Jeevan <j.shimoga.prakash@accenture.com>; Akhouri, Shreyash <shreyash.akhouri@accenture.com>; Nath, Nupanga <nupanga.nath@accenture.com>; Ponna, Ramesh <r.ponna@accenture.com>; Singhal, Aditya <aditya.d.singhal@accenture.com>; Gorai, Sumit <sumit.gorai@accenture.com>; Valdez, Mariele Dyan Francely <mariele.dyan.valdez@accenture.com>; Cancel, Abigail Kyle <abigail.kyle.cancel@accenture.com>; BONDALAKUNTA, POOJITHA <p.bondalakunta@accenture.com>; priyanka uppala, sai <sai.priyanka.uppala@accenture.com>; Nitin SHINDE, NIKHIL <nikhil.nitin.shinde@accenture.com>; Chidre, Swapna <swapna.chidre@accenture.com>; Sahu, Swastik <s.satyapragyan.sahu@accenture.com>; Sikka, Ankit <ankit.sikka@accenture.com>; Dara, Sai Madhukar <sai.madhukar.dara@accenture.com>; Pattanshetti, Sampreet <s.pattanshetti@accenture.com>; Sharma, Ayush <ayush.ad.sharma@accenture.com>; Latorena, Zairous Jay <zairous.jay.latorena@accenture.com>; Abhimanyu Pradhan, Roshankumar <r.abhimanyu.pradhan@accenture.com>; Jaiswal, Lehar <lehar.jaiswal@accenture.com>; Gupta, Retik <retik.gupta@accenture.com>; Satti, Phanindra Reddy <phanindra.r.satti@accenture.com>; Kumar, Manish <manish.dw.kumar@accenture.com>; Balakrishnan, Devi Priya <devi.p.balakrishnan@accenture.com>; M S, Roshni Priya <roshni.priya.m.s@accenture.com>; Cheerala, Vanaja <vanaja.cheerala@accenture.com>; G D, Chandrashekhar <chandrashekhar.g.d@accenture.com>; Nikhil Reddy, Madithati <m.nikhil.reddy@accenture.com>; Santos, Jeroshelle V. <jeroshelle.v.santos@accenture.com>; Milan, Gerald John <gerald.john.milan@accenture.com>; Gupta, Vivek <vivek.u.gupta@accenture.com>; Mandal, Sumit <s.sunilkumar.mandal@accenture.com>; Prakash Shukla, Ashok <ashok.prakash.shukla@accenture.com>; Naganathan, Siva <sivakumar.naganathan@accenture.com>; GAHLOT, NIKHIL <nikhil.gahlot@accenture.com>; Kanjilal, Sourav <s.a.kanti.kanjilal@accenture.com>; Nallagoni, Omkar <omkar.nallagoni@accenture.com>; Sahajan, Sandra <sandra.sahajan@accenture.com>; Nelluri, Chaitanya <chaitanya.nelluri@accenture.com>\n"
     ]
    }
   ],
   "source": [
    "file_location=\"emails.txt\"\n",
    "file=open(file_location,encoding='utf-8-sig')\n",
    "print(file.read())"
   ]
  },
  {
   "cell_type": "code",
   "execution_count": 7,
   "id": "208d753a",
   "metadata": {},
   "outputs": [
    {
     "name": "stdout",
     "output_type": "stream",
     "text": [
      "Santhanam, Jayendhran <jayendhran.ms@accenture.com>; Bhattacharjee, Sankalan <s.t.bhattacharjee@accenture.com>; Bansal, Vaishnavi <vaishnavi.a.bansal@accenture.com>; Chandra Shekhar, Pavuluri <p.a.chandra.shekhar@accenture.com>; J Doshi, Hiren <hiren.j.doshi@accenture.com>; Shimoga Prakash, Jeevan <j.shimoga.prakash@accenture.com>; Akhouri, Shreyash <shreyash.akhouri@accenture.com>; Nath, Nupanga <nupanga.nath@accenture.com>; Ponna, Ramesh <r.ponna@accenture.com>; Singhal, Aditya <aditya.d.singhal@accenture.com>; Gorai, Sumit <sumit.gorai@accenture.com>; Valdez, Mariele Dyan Francely <mariele.dyan.valdez@accenture.com>; Cancel, Abigail Kyle <abigail.kyle.cancel@accenture.com>; BONDALAKUNTA, POOJITHA <p.bondalakunta@accenture.com>; priyanka uppala, sai <sai.priyanka.uppala@accenture.com>; Nitin SHINDE, NIKHIL <nikhil.nitin.shinde@accenture.com>; Chidre, Swapna <swapna.chidre@accenture.com>; Sahu, Swastik <s.satyapragyan.sahu@accenture.com>; Sikka, Ankit <ankit.sikka@accenture.com>; Dara, Sai Madhukar <sai.madhukar.dara@accenture.com>; Pattanshetti, Sampreet <s.pattanshetti@accenture.com>; Sharma, Ayush <ayush.ad.sharma@accenture.com>; Latorena, Zairous Jay <zairous.jay.latorena@accenture.com>; Abhimanyu Pradhan, Roshankumar <r.abhimanyu.pradhan@accenture.com>; Jaiswal, Lehar <lehar.jaiswal@accenture.com>; Gupta, Retik <retik.gupta@accenture.com>; Satti, Phanindra Reddy <phanindra.r.satti@accenture.com>; Kumar, Manish <manish.dw.kumar@accenture.com>; Balakrishnan, Devi Priya <devi.p.balakrishnan@accenture.com>; M S, Roshni Priya <roshni.priya.m.s@accenture.com>; Cheerala, Vanaja <vanaja.cheerala@accenture.com>; G D, Chandrashekhar <chandrashekhar.g.d@accenture.com>; Nikhil Reddy, Madithati <m.nikhil.reddy@accenture.com>; Santos, Jeroshelle V. <jeroshelle.v.santos@accenture.com>; Milan, Gerald John <gerald.john.milan@accenture.com>; Gupta, Vivek <vivek.u.gupta@accenture.com>; Mandal, Sumit <s.sunilkumar.mandal@accenture.com>; Prakash Shukla, Ashok <ashok.prakash.shukla@accenture.com>; Naganathan, Siva <sivakumar.naganathan@accenture.com>; GAHLOT, NIKHIL <nikhil.gahlot@accenture.com>; Kanjilal, Sourav <s.a.kanti.kanjilal@accenture.com>; Nallagoni, Omkar <omkar.nallagoni@accenture.com>; Sahajan, Sandra <sandra.sahajan@accenture.com>; Nelluri, Chaitanya <chaitanya.nelluri@accenture.com>\n"
     ]
    }
   ],
   "source": [
    "file_location=\"emails.txt\"\n",
    "\n",
    "#open your file \n",
    "\n",
    "file=open(file_location,mode='r',encoding='utf-8-sig')\n"
   ]
  },
  {
   "cell_type": "code",
   "execution_count": 1,
   "id": "55d5ab0a",
   "metadata": {},
   "outputs": [
    {
     "name": "stdout",
     "output_type": "stream",
     "text": [
      "['Santhanam,', 'Bhattacharjee,', 'Bansal,', 'Chandra', 'J', 'Shimoga', 'Akhouri,', 'Nath,', 'Ponna,', 'Singhal,', 'Gorai,', 'Valdez,', 'Cancel,', 'BONDALAKUNTA,', 'priyanka', 'Nitin', 'Chidre,', 'Sahu,', 'Sikka,', 'Dara,', 'Pattanshetti,', 'Sharma,', 'Latorena,', 'Abhimanyu', 'Jaiswal,', 'Gupta,', 'Satti,', 'Kumar,', 'Balakrishnan,', 'M', 'Cheerala,', 'G', 'Nikhil', 'Santos,', 'Milan,', 'Gupta,', 'Mandal,', 'Prakash', 'Naganathan,', 'GAHLOT,', 'Kanjilal,', 'Nallagoni,', 'Sahajan,', 'Nelluri,']\n",
      "====================================================================================================\n",
      "['Jayendhran', 'Sankalan', 'Vaishnavi', 'Shekhar,', 'Doshi,', 'Prakash,', 'Shreyash', 'Nupanga', 'Ramesh', 'Aditya', 'Sumit', 'Mariele', 'Abigail', 'POOJITHA', 'uppala,', 'SHINDE,', 'Swapna', 'Swastik', 'Ankit', 'Sai', 'Sampreet', 'Ayush', 'Zairous', 'Pradhan,', 'Lehar', 'Retik', 'Phanindra', 'Manish', 'Devi', 'S,', 'Vanaja', 'D,', 'Reddy,', 'Jeroshelle', 'Gerald', 'Vivek', 'Sumit', 'Shukla,', 'Siva', 'NIKHIL', 'Sourav', 'Omkar', 'Sandra', 'Chaitanya']\n",
      "====================================================================================================\n",
      "['jayendhran.ms@accenture.com', 'jayendhran.ms@accenture.com', 's.t.bhattacharjee@accenture.com', 'jayendhran.ms@accenture.com', 's.t.bhattacharjee@accenture.com', 'vaishnavi.a.bansal@accenture.com', 'jayendhran.ms@accenture.com', 's.t.bhattacharjee@accenture.com', 'vaishnavi.a.bansal@accenture.com', 'Pavuluri', 'jayendhran.ms@accenture.com', 's.t.bhattacharjee@accenture.com', 'vaishnavi.a.bansal@accenture.com', 'Pavuluri', 'Hiren', 'jayendhran.ms@accenture.com', 's.t.bhattacharjee@accenture.com', 'vaishnavi.a.bansal@accenture.com', 'Pavuluri', 'Hiren', 'Jeevan', 'jayendhran.ms@accenture.com', 's.t.bhattacharjee@accenture.com', 'vaishnavi.a.bansal@accenture.com', 'Pavuluri', 'Hiren', 'Jeevan', 'shreyash.akhouri@accenture.com', 'jayendhran.ms@accenture.com', 's.t.bhattacharjee@accenture.com', 'vaishnavi.a.bansal@accenture.com', 'Pavuluri', 'Hiren', 'Jeevan', 'shreyash.akhouri@accenture.com', 'nupanga.nath@accenture.com', 'jayendhran.ms@accenture.com', 's.t.bhattacharjee@accenture.com', 'vaishnavi.a.bansal@accenture.com', 'Pavuluri', 'Hiren', 'Jeevan', 'shreyash.akhouri@accenture.com', 'nupanga.nath@accenture.com', 'r.ponna@accenture.com', 'jayendhran.ms@accenture.com', 's.t.bhattacharjee@accenture.com', 'vaishnavi.a.bansal@accenture.com', 'Pavuluri', 'Hiren', 'Jeevan', 'shreyash.akhouri@accenture.com', 'nupanga.nath@accenture.com', 'r.ponna@accenture.com', 'aditya.d.singhal@accenture.com', 'jayendhran.ms@accenture.com', 's.t.bhattacharjee@accenture.com', 'vaishnavi.a.bansal@accenture.com', 'Pavuluri', 'Hiren', 'Jeevan', 'shreyash.akhouri@accenture.com', 'nupanga.nath@accenture.com', 'r.ponna@accenture.com', 'aditya.d.singhal@accenture.com', 'sumit.gorai@accenture.com', 'jayendhran.ms@accenture.com', 's.t.bhattacharjee@accenture.com', 'vaishnavi.a.bansal@accenture.com', 'Pavuluri', 'Hiren', 'Jeevan', 'shreyash.akhouri@accenture.com', 'nupanga.nath@accenture.com', 'r.ponna@accenture.com', 'aditya.d.singhal@accenture.com', 'sumit.gorai@accenture.com', 'Dyan', 'jayendhran.ms@accenture.com', 's.t.bhattacharjee@accenture.com', 'vaishnavi.a.bansal@accenture.com', 'Pavuluri', 'Hiren', 'Jeevan', 'shreyash.akhouri@accenture.com', 'nupanga.nath@accenture.com', 'r.ponna@accenture.com', 'aditya.d.singhal@accenture.com', 'sumit.gorai@accenture.com', 'Dyan', 'Kyle', 'jayendhran.ms@accenture.com', 's.t.bhattacharjee@accenture.com', 'vaishnavi.a.bansal@accenture.com', 'Pavuluri', 'Hiren', 'Jeevan', 'shreyash.akhouri@accenture.com', 'nupanga.nath@accenture.com', 'r.ponna@accenture.com', 'aditya.d.singhal@accenture.com', 'sumit.gorai@accenture.com', 'Dyan', 'Kyle', 'p.bondalakunta@accenture.com', 'jayendhran.ms@accenture.com', 's.t.bhattacharjee@accenture.com', 'vaishnavi.a.bansal@accenture.com', 'Pavuluri', 'Hiren', 'Jeevan', 'shreyash.akhouri@accenture.com', 'nupanga.nath@accenture.com', 'r.ponna@accenture.com', 'aditya.d.singhal@accenture.com', 'sumit.gorai@accenture.com', 'Dyan', 'Kyle', 'p.bondalakunta@accenture.com', 'sai', 'jayendhran.ms@accenture.com', 's.t.bhattacharjee@accenture.com', 'vaishnavi.a.bansal@accenture.com', 'Pavuluri', 'Hiren', 'Jeevan', 'shreyash.akhouri@accenture.com', 'nupanga.nath@accenture.com', 'r.ponna@accenture.com', 'aditya.d.singhal@accenture.com', 'sumit.gorai@accenture.com', 'Dyan', 'Kyle', 'p.bondalakunta@accenture.com', 'sai', 'NIKHIL', 'jayendhran.ms@accenture.com', 's.t.bhattacharjee@accenture.com', 'vaishnavi.a.bansal@accenture.com', 'Pavuluri', 'Hiren', 'Jeevan', 'shreyash.akhouri@accenture.com', 'nupanga.nath@accenture.com', 'r.ponna@accenture.com', 'aditya.d.singhal@accenture.com', 'sumit.gorai@accenture.com', 'Dyan', 'Kyle', 'p.bondalakunta@accenture.com', 'sai', 'NIKHIL', 'swapna.chidre@accenture.com', 'jayendhran.ms@accenture.com', 's.t.bhattacharjee@accenture.com', 'vaishnavi.a.bansal@accenture.com', 'Pavuluri', 'Hiren', 'Jeevan', 'shreyash.akhouri@accenture.com', 'nupanga.nath@accenture.com', 'r.ponna@accenture.com', 'aditya.d.singhal@accenture.com', 'sumit.gorai@accenture.com', 'Dyan', 'Kyle', 'p.bondalakunta@accenture.com', 'sai', 'NIKHIL', 'swapna.chidre@accenture.com', 's.satyapragyan.sahu@accenture.com', 'jayendhran.ms@accenture.com', 's.t.bhattacharjee@accenture.com', 'vaishnavi.a.bansal@accenture.com', 'Pavuluri', 'Hiren', 'Jeevan', 'shreyash.akhouri@accenture.com', 'nupanga.nath@accenture.com', 'r.ponna@accenture.com', 'aditya.d.singhal@accenture.com', 'sumit.gorai@accenture.com', 'Dyan', 'Kyle', 'p.bondalakunta@accenture.com', 'sai', 'NIKHIL', 'swapna.chidre@accenture.com', 's.satyapragyan.sahu@accenture.com', 'ankit.sikka@accenture.com', 'jayendhran.ms@accenture.com', 's.t.bhattacharjee@accenture.com', 'vaishnavi.a.bansal@accenture.com', 'Pavuluri', 'Hiren', 'Jeevan', 'shreyash.akhouri@accenture.com', 'nupanga.nath@accenture.com', 'r.ponna@accenture.com', 'aditya.d.singhal@accenture.com', 'sumit.gorai@accenture.com', 'Dyan', 'Kyle', 'p.bondalakunta@accenture.com', 'sai', 'NIKHIL', 'swapna.chidre@accenture.com', 's.satyapragyan.sahu@accenture.com', 'ankit.sikka@accenture.com', 'Madhukar', 'jayendhran.ms@accenture.com', 's.t.bhattacharjee@accenture.com', 'vaishnavi.a.bansal@accenture.com', 'Pavuluri', 'Hiren', 'Jeevan', 'shreyash.akhouri@accenture.com', 'nupanga.nath@accenture.com', 'r.ponna@accenture.com', 'aditya.d.singhal@accenture.com', 'sumit.gorai@accenture.com', 'Dyan', 'Kyle', 'p.bondalakunta@accenture.com', 'sai', 'NIKHIL', 'swapna.chidre@accenture.com', 's.satyapragyan.sahu@accenture.com', 'ankit.sikka@accenture.com', 'Madhukar', 's.pattanshetti@accenture.com', 'jayendhran.ms@accenture.com', 's.t.bhattacharjee@accenture.com', 'vaishnavi.a.bansal@accenture.com', 'Pavuluri', 'Hiren', 'Jeevan', 'shreyash.akhouri@accenture.com', 'nupanga.nath@accenture.com', 'r.ponna@accenture.com', 'aditya.d.singhal@accenture.com', 'sumit.gorai@accenture.com', 'Dyan', 'Kyle', 'p.bondalakunta@accenture.com', 'sai', 'NIKHIL', 'swapna.chidre@accenture.com', 's.satyapragyan.sahu@accenture.com', 'ankit.sikka@accenture.com', 'Madhukar', 's.pattanshetti@accenture.com', 'ayush.ad.sharma@accenture.com', 'jayendhran.ms@accenture.com', 's.t.bhattacharjee@accenture.com', 'vaishnavi.a.bansal@accenture.com', 'Pavuluri', 'Hiren', 'Jeevan', 'shreyash.akhouri@accenture.com', 'nupanga.nath@accenture.com', 'r.ponna@accenture.com', 'aditya.d.singhal@accenture.com', 'sumit.gorai@accenture.com', 'Dyan', 'Kyle', 'p.bondalakunta@accenture.com', 'sai', 'NIKHIL', 'swapna.chidre@accenture.com', 's.satyapragyan.sahu@accenture.com', 'ankit.sikka@accenture.com', 'Madhukar', 's.pattanshetti@accenture.com', 'ayush.ad.sharma@accenture.com', 'Jay', 'jayendhran.ms@accenture.com', 's.t.bhattacharjee@accenture.com', 'vaishnavi.a.bansal@accenture.com', 'Pavuluri', 'Hiren', 'Jeevan', 'shreyash.akhouri@accenture.com', 'nupanga.nath@accenture.com', 'r.ponna@accenture.com', 'aditya.d.singhal@accenture.com', 'sumit.gorai@accenture.com', 'Dyan', 'Kyle', 'p.bondalakunta@accenture.com', 'sai', 'NIKHIL', 'swapna.chidre@accenture.com', 's.satyapragyan.sahu@accenture.com', 'ankit.sikka@accenture.com', 'Madhukar', 's.pattanshetti@accenture.com', 'ayush.ad.sharma@accenture.com', 'Jay', 'Roshankumar', 'jayendhran.ms@accenture.com', 's.t.bhattacharjee@accenture.com', 'vaishnavi.a.bansal@accenture.com', 'Pavuluri', 'Hiren', 'Jeevan', 'shreyash.akhouri@accenture.com', 'nupanga.nath@accenture.com', 'r.ponna@accenture.com', 'aditya.d.singhal@accenture.com', 'sumit.gorai@accenture.com', 'Dyan', 'Kyle', 'p.bondalakunta@accenture.com', 'sai', 'NIKHIL', 'swapna.chidre@accenture.com', 's.satyapragyan.sahu@accenture.com', 'ankit.sikka@accenture.com', 'Madhukar', 's.pattanshetti@accenture.com', 'ayush.ad.sharma@accenture.com', 'Jay', 'Roshankumar', 'lehar.jaiswal@accenture.com', 'jayendhran.ms@accenture.com', 's.t.bhattacharjee@accenture.com', 'vaishnavi.a.bansal@accenture.com', 'Pavuluri', 'Hiren', 'Jeevan', 'shreyash.akhouri@accenture.com', 'nupanga.nath@accenture.com', 'r.ponna@accenture.com', 'aditya.d.singhal@accenture.com', 'sumit.gorai@accenture.com', 'Dyan', 'Kyle', 'p.bondalakunta@accenture.com', 'sai', 'NIKHIL', 'swapna.chidre@accenture.com', 's.satyapragyan.sahu@accenture.com', 'ankit.sikka@accenture.com', 'Madhukar', 's.pattanshetti@accenture.com', 'ayush.ad.sharma@accenture.com', 'Jay', 'Roshankumar', 'lehar.jaiswal@accenture.com', 'retik.gupta@accenture.com', 'jayendhran.ms@accenture.com', 's.t.bhattacharjee@accenture.com', 'vaishnavi.a.bansal@accenture.com', 'Pavuluri', 'Hiren', 'Jeevan', 'shreyash.akhouri@accenture.com', 'nupanga.nath@accenture.com', 'r.ponna@accenture.com', 'aditya.d.singhal@accenture.com', 'sumit.gorai@accenture.com', 'Dyan', 'Kyle', 'p.bondalakunta@accenture.com', 'sai', 'NIKHIL', 'swapna.chidre@accenture.com', 's.satyapragyan.sahu@accenture.com', 'ankit.sikka@accenture.com', 'Madhukar', 's.pattanshetti@accenture.com', 'ayush.ad.sharma@accenture.com', 'Jay', 'Roshankumar', 'lehar.jaiswal@accenture.com', 'retik.gupta@accenture.com', 'Reddy', 'jayendhran.ms@accenture.com', 's.t.bhattacharjee@accenture.com', 'vaishnavi.a.bansal@accenture.com', 'Pavuluri', 'Hiren', 'Jeevan', 'shreyash.akhouri@accenture.com', 'nupanga.nath@accenture.com', 'r.ponna@accenture.com', 'aditya.d.singhal@accenture.com', 'sumit.gorai@accenture.com', 'Dyan', 'Kyle', 'p.bondalakunta@accenture.com', 'sai', 'NIKHIL', 'swapna.chidre@accenture.com', 's.satyapragyan.sahu@accenture.com', 'ankit.sikka@accenture.com', 'Madhukar', 's.pattanshetti@accenture.com', 'ayush.ad.sharma@accenture.com', 'Jay', 'Roshankumar', 'lehar.jaiswal@accenture.com', 'retik.gupta@accenture.com', 'Reddy', 'manish.dw.kumar@accenture.com', 'jayendhran.ms@accenture.com', 's.t.bhattacharjee@accenture.com', 'vaishnavi.a.bansal@accenture.com', 'Pavuluri', 'Hiren', 'Jeevan', 'shreyash.akhouri@accenture.com', 'nupanga.nath@accenture.com', 'r.ponna@accenture.com', 'aditya.d.singhal@accenture.com', 'sumit.gorai@accenture.com', 'Dyan', 'Kyle', 'p.bondalakunta@accenture.com', 'sai', 'NIKHIL', 'swapna.chidre@accenture.com', 's.satyapragyan.sahu@accenture.com', 'ankit.sikka@accenture.com', 'Madhukar', 's.pattanshetti@accenture.com', 'ayush.ad.sharma@accenture.com', 'Jay', 'Roshankumar', 'lehar.jaiswal@accenture.com', 'retik.gupta@accenture.com', 'Reddy', 'manish.dw.kumar@accenture.com', 'Priya', 'jayendhran.ms@accenture.com', 's.t.bhattacharjee@accenture.com', 'vaishnavi.a.bansal@accenture.com', 'Pavuluri', 'Hiren', 'Jeevan', 'shreyash.akhouri@accenture.com', 'nupanga.nath@accenture.com', 'r.ponna@accenture.com', 'aditya.d.singhal@accenture.com', 'sumit.gorai@accenture.com', 'Dyan', 'Kyle', 'p.bondalakunta@accenture.com', 'sai', 'NIKHIL', 'swapna.chidre@accenture.com', 's.satyapragyan.sahu@accenture.com', 'ankit.sikka@accenture.com', 'Madhukar', 's.pattanshetti@accenture.com', 'ayush.ad.sharma@accenture.com', 'Jay', 'Roshankumar', 'lehar.jaiswal@accenture.com', 'retik.gupta@accenture.com', 'Reddy', 'manish.dw.kumar@accenture.com', 'Priya', 'Roshni', 'jayendhran.ms@accenture.com', 's.t.bhattacharjee@accenture.com', 'vaishnavi.a.bansal@accenture.com', 'Pavuluri', 'Hiren', 'Jeevan', 'shreyash.akhouri@accenture.com', 'nupanga.nath@accenture.com', 'r.ponna@accenture.com', 'aditya.d.singhal@accenture.com', 'sumit.gorai@accenture.com', 'Dyan', 'Kyle', 'p.bondalakunta@accenture.com', 'sai', 'NIKHIL', 'swapna.chidre@accenture.com', 's.satyapragyan.sahu@accenture.com', 'ankit.sikka@accenture.com', 'Madhukar', 's.pattanshetti@accenture.com', 'ayush.ad.sharma@accenture.com', 'Jay', 'Roshankumar', 'lehar.jaiswal@accenture.com', 'retik.gupta@accenture.com', 'Reddy', 'manish.dw.kumar@accenture.com', 'Priya', 'Roshni', 'vanaja.cheerala@accenture.com', 'jayendhran.ms@accenture.com', 's.t.bhattacharjee@accenture.com', 'vaishnavi.a.bansal@accenture.com', 'Pavuluri', 'Hiren', 'Jeevan', 'shreyash.akhouri@accenture.com', 'nupanga.nath@accenture.com', 'r.ponna@accenture.com', 'aditya.d.singhal@accenture.com', 'sumit.gorai@accenture.com', 'Dyan', 'Kyle', 'p.bondalakunta@accenture.com', 'sai', 'NIKHIL', 'swapna.chidre@accenture.com', 's.satyapragyan.sahu@accenture.com', 'ankit.sikka@accenture.com', 'Madhukar', 's.pattanshetti@accenture.com', 'ayush.ad.sharma@accenture.com', 'Jay', 'Roshankumar', 'lehar.jaiswal@accenture.com', 'retik.gupta@accenture.com', 'Reddy', 'manish.dw.kumar@accenture.com', 'Priya', 'Roshni', 'vanaja.cheerala@accenture.com', 'Chandrashekhar', 'jayendhran.ms@accenture.com', 's.t.bhattacharjee@accenture.com', 'vaishnavi.a.bansal@accenture.com', 'Pavuluri', 'Hiren', 'Jeevan', 'shreyash.akhouri@accenture.com', 'nupanga.nath@accenture.com', 'r.ponna@accenture.com', 'aditya.d.singhal@accenture.com', 'sumit.gorai@accenture.com', 'Dyan', 'Kyle', 'p.bondalakunta@accenture.com', 'sai', 'NIKHIL', 'swapna.chidre@accenture.com', 's.satyapragyan.sahu@accenture.com', 'ankit.sikka@accenture.com', 'Madhukar', 's.pattanshetti@accenture.com', 'ayush.ad.sharma@accenture.com', 'Jay', 'Roshankumar', 'lehar.jaiswal@accenture.com', 'retik.gupta@accenture.com', 'Reddy', 'manish.dw.kumar@accenture.com', 'Priya', 'Roshni', 'vanaja.cheerala@accenture.com', 'Chandrashekhar', 'Madithati', 'jayendhran.ms@accenture.com', 's.t.bhattacharjee@accenture.com', 'vaishnavi.a.bansal@accenture.com', 'Pavuluri', 'Hiren', 'Jeevan', 'shreyash.akhouri@accenture.com', 'nupanga.nath@accenture.com', 'r.ponna@accenture.com', 'aditya.d.singhal@accenture.com', 'sumit.gorai@accenture.com', 'Dyan', 'Kyle', 'p.bondalakunta@accenture.com', 'sai', 'NIKHIL', 'swapna.chidre@accenture.com', 's.satyapragyan.sahu@accenture.com', 'ankit.sikka@accenture.com', 'Madhukar', 's.pattanshetti@accenture.com', 'ayush.ad.sharma@accenture.com', 'Jay', 'Roshankumar', 'lehar.jaiswal@accenture.com', 'retik.gupta@accenture.com', 'Reddy', 'manish.dw.kumar@accenture.com', 'Priya', 'Roshni', 'vanaja.cheerala@accenture.com', 'Chandrashekhar', 'Madithati', 'V.', 'jayendhran.ms@accenture.com', 's.t.bhattacharjee@accenture.com', 'vaishnavi.a.bansal@accenture.com', 'Pavuluri', 'Hiren', 'Jeevan', 'shreyash.akhouri@accenture.com', 'nupanga.nath@accenture.com', 'r.ponna@accenture.com', 'aditya.d.singhal@accenture.com', 'sumit.gorai@accenture.com', 'Dyan', 'Kyle', 'p.bondalakunta@accenture.com', 'sai', 'NIKHIL', 'swapna.chidre@accenture.com', 's.satyapragyan.sahu@accenture.com', 'ankit.sikka@accenture.com', 'Madhukar', 's.pattanshetti@accenture.com', 'ayush.ad.sharma@accenture.com', 'Jay', 'Roshankumar', 'lehar.jaiswal@accenture.com', 'retik.gupta@accenture.com', 'Reddy', 'manish.dw.kumar@accenture.com', 'Priya', 'Roshni', 'vanaja.cheerala@accenture.com', 'Chandrashekhar', 'Madithati', 'V.', 'John', 'jayendhran.ms@accenture.com', 's.t.bhattacharjee@accenture.com', 'vaishnavi.a.bansal@accenture.com', 'Pavuluri', 'Hiren', 'Jeevan', 'shreyash.akhouri@accenture.com', 'nupanga.nath@accenture.com', 'r.ponna@accenture.com', 'aditya.d.singhal@accenture.com', 'sumit.gorai@accenture.com', 'Dyan', 'Kyle', 'p.bondalakunta@accenture.com', 'sai', 'NIKHIL', 'swapna.chidre@accenture.com', 's.satyapragyan.sahu@accenture.com', 'ankit.sikka@accenture.com', 'Madhukar', 's.pattanshetti@accenture.com', 'ayush.ad.sharma@accenture.com', 'Jay', 'Roshankumar', 'lehar.jaiswal@accenture.com', 'retik.gupta@accenture.com', 'Reddy', 'manish.dw.kumar@accenture.com', 'Priya', 'Roshni', 'vanaja.cheerala@accenture.com', 'Chandrashekhar', 'Madithati', 'V.', 'John', 'vivek.u.gupta@accenture.com', 'jayendhran.ms@accenture.com', 's.t.bhattacharjee@accenture.com', 'vaishnavi.a.bansal@accenture.com', 'Pavuluri', 'Hiren', 'Jeevan', 'shreyash.akhouri@accenture.com', 'nupanga.nath@accenture.com', 'r.ponna@accenture.com', 'aditya.d.singhal@accenture.com', 'sumit.gorai@accenture.com', 'Dyan', 'Kyle', 'p.bondalakunta@accenture.com', 'sai', 'NIKHIL', 'swapna.chidre@accenture.com', 's.satyapragyan.sahu@accenture.com', 'ankit.sikka@accenture.com', 'Madhukar', 's.pattanshetti@accenture.com', 'ayush.ad.sharma@accenture.com', 'Jay', 'Roshankumar', 'lehar.jaiswal@accenture.com', 'retik.gupta@accenture.com', 'Reddy', 'manish.dw.kumar@accenture.com', 'Priya', 'Roshni', 'vanaja.cheerala@accenture.com', 'Chandrashekhar', 'Madithati', 'V.', 'John', 'vivek.u.gupta@accenture.com', 's.sunilkumar.mandal@accenture.com', 'jayendhran.ms@accenture.com', 's.t.bhattacharjee@accenture.com', 'vaishnavi.a.bansal@accenture.com', 'Pavuluri', 'Hiren', 'Jeevan', 'shreyash.akhouri@accenture.com', 'nupanga.nath@accenture.com', 'r.ponna@accenture.com', 'aditya.d.singhal@accenture.com', 'sumit.gorai@accenture.com', 'Dyan', 'Kyle', 'p.bondalakunta@accenture.com', 'sai', 'NIKHIL', 'swapna.chidre@accenture.com', 's.satyapragyan.sahu@accenture.com', 'ankit.sikka@accenture.com', 'Madhukar', 's.pattanshetti@accenture.com', 'ayush.ad.sharma@accenture.com', 'Jay', 'Roshankumar', 'lehar.jaiswal@accenture.com', 'retik.gupta@accenture.com', 'Reddy', 'manish.dw.kumar@accenture.com', 'Priya', 'Roshni', 'vanaja.cheerala@accenture.com', 'Chandrashekhar', 'Madithati', 'V.', 'John', 'vivek.u.gupta@accenture.com', 's.sunilkumar.mandal@accenture.com', 'Ashok', 'jayendhran.ms@accenture.com', 's.t.bhattacharjee@accenture.com', 'vaishnavi.a.bansal@accenture.com', 'Pavuluri', 'Hiren', 'Jeevan', 'shreyash.akhouri@accenture.com', 'nupanga.nath@accenture.com', 'r.ponna@accenture.com', 'aditya.d.singhal@accenture.com', 'sumit.gorai@accenture.com', 'Dyan', 'Kyle', 'p.bondalakunta@accenture.com', 'sai', 'NIKHIL', 'swapna.chidre@accenture.com', 's.satyapragyan.sahu@accenture.com', 'ankit.sikka@accenture.com', 'Madhukar', 's.pattanshetti@accenture.com', 'ayush.ad.sharma@accenture.com', 'Jay', 'Roshankumar', 'lehar.jaiswal@accenture.com', 'retik.gupta@accenture.com', 'Reddy', 'manish.dw.kumar@accenture.com', 'Priya', 'Roshni', 'vanaja.cheerala@accenture.com', 'Chandrashekhar', 'Madithati', 'V.', 'John', 'vivek.u.gupta@accenture.com', 's.sunilkumar.mandal@accenture.com', 'Ashok', 'sivakumar.naganathan@accenture.com', 'jayendhran.ms@accenture.com', 's.t.bhattacharjee@accenture.com', 'vaishnavi.a.bansal@accenture.com', 'Pavuluri', 'Hiren', 'Jeevan', 'shreyash.akhouri@accenture.com', 'nupanga.nath@accenture.com', 'r.ponna@accenture.com', 'aditya.d.singhal@accenture.com', 'sumit.gorai@accenture.com', 'Dyan', 'Kyle', 'p.bondalakunta@accenture.com', 'sai', 'NIKHIL', 'swapna.chidre@accenture.com', 's.satyapragyan.sahu@accenture.com', 'ankit.sikka@accenture.com', 'Madhukar', 's.pattanshetti@accenture.com', 'ayush.ad.sharma@accenture.com', 'Jay', 'Roshankumar', 'lehar.jaiswal@accenture.com', 'retik.gupta@accenture.com', 'Reddy', 'manish.dw.kumar@accenture.com', 'Priya', 'Roshni', 'vanaja.cheerala@accenture.com', 'Chandrashekhar', 'Madithati', 'V.', 'John', 'vivek.u.gupta@accenture.com', 's.sunilkumar.mandal@accenture.com', 'Ashok', 'sivakumar.naganathan@accenture.com', 'nikhil.gahlot@accenture.com', 'jayendhran.ms@accenture.com', 's.t.bhattacharjee@accenture.com', 'vaishnavi.a.bansal@accenture.com', 'Pavuluri', 'Hiren', 'Jeevan', 'shreyash.akhouri@accenture.com', 'nupanga.nath@accenture.com', 'r.ponna@accenture.com', 'aditya.d.singhal@accenture.com', 'sumit.gorai@accenture.com', 'Dyan', 'Kyle', 'p.bondalakunta@accenture.com', 'sai', 'NIKHIL', 'swapna.chidre@accenture.com', 's.satyapragyan.sahu@accenture.com', 'ankit.sikka@accenture.com', 'Madhukar', 's.pattanshetti@accenture.com', 'ayush.ad.sharma@accenture.com', 'Jay', 'Roshankumar', 'lehar.jaiswal@accenture.com', 'retik.gupta@accenture.com', 'Reddy', 'manish.dw.kumar@accenture.com', 'Priya', 'Roshni', 'vanaja.cheerala@accenture.com', 'Chandrashekhar', 'Madithati', 'V.', 'John', 'vivek.u.gupta@accenture.com', 's.sunilkumar.mandal@accenture.com', 'Ashok', 'sivakumar.naganathan@accenture.com', 'nikhil.gahlot@accenture.com', 's.a.kanti.kanjilal@accenture.com', 'jayendhran.ms@accenture.com', 's.t.bhattacharjee@accenture.com', 'vaishnavi.a.bansal@accenture.com', 'Pavuluri', 'Hiren', 'Jeevan', 'shreyash.akhouri@accenture.com', 'nupanga.nath@accenture.com', 'r.ponna@accenture.com', 'aditya.d.singhal@accenture.com', 'sumit.gorai@accenture.com', 'Dyan', 'Kyle', 'p.bondalakunta@accenture.com', 'sai', 'NIKHIL', 'swapna.chidre@accenture.com', 's.satyapragyan.sahu@accenture.com', 'ankit.sikka@accenture.com', 'Madhukar', 's.pattanshetti@accenture.com', 'ayush.ad.sharma@accenture.com', 'Jay', 'Roshankumar', 'lehar.jaiswal@accenture.com', 'retik.gupta@accenture.com', 'Reddy', 'manish.dw.kumar@accenture.com', 'Priya', 'Roshni', 'vanaja.cheerala@accenture.com', 'Chandrashekhar', 'Madithati', 'V.', 'John', 'vivek.u.gupta@accenture.com', 's.sunilkumar.mandal@accenture.com', 'Ashok', 'sivakumar.naganathan@accenture.com', 'nikhil.gahlot@accenture.com', 's.a.kanti.kanjilal@accenture.com', 'omkar.nallagoni@accenture.com', 'jayendhran.ms@accenture.com', 's.t.bhattacharjee@accenture.com', 'vaishnavi.a.bansal@accenture.com', 'Pavuluri', 'Hiren', 'Jeevan', 'shreyash.akhouri@accenture.com', 'nupanga.nath@accenture.com', 'r.ponna@accenture.com', 'aditya.d.singhal@accenture.com', 'sumit.gorai@accenture.com', 'Dyan', 'Kyle', 'p.bondalakunta@accenture.com', 'sai', 'NIKHIL', 'swapna.chidre@accenture.com', 's.satyapragyan.sahu@accenture.com', 'ankit.sikka@accenture.com', 'Madhukar', 's.pattanshetti@accenture.com', 'ayush.ad.sharma@accenture.com', 'Jay', 'Roshankumar', 'lehar.jaiswal@accenture.com', 'retik.gupta@accenture.com', 'Reddy', 'manish.dw.kumar@accenture.com', 'Priya', 'Roshni', 'vanaja.cheerala@accenture.com', 'Chandrashekhar', 'Madithati', 'V.', 'John', 'vivek.u.gupta@accenture.com', 's.sunilkumar.mandal@accenture.com', 'Ashok', 'sivakumar.naganathan@accenture.com', 'nikhil.gahlot@accenture.com', 's.a.kanti.kanjilal@accenture.com', 'omkar.nallagoni@accenture.com', 'sandra.sahajan@accenture.com', 'jayendhran.ms@accenture.com', 's.t.bhattacharjee@accenture.com', 'vaishnavi.a.bansal@accenture.com', 'Pavuluri', 'Hiren', 'Jeevan', 'shreyash.akhouri@accenture.com', 'nupanga.nath@accenture.com', 'r.ponna@accenture.com', 'aditya.d.singhal@accenture.com', 'sumit.gorai@accenture.com', 'Dyan', 'Kyle', 'p.bondalakunta@accenture.com', 'sai', 'NIKHIL', 'swapna.chidre@accenture.com', 's.satyapragyan.sahu@accenture.com', 'ankit.sikka@accenture.com', 'Madhukar', 's.pattanshetti@accenture.com', 'ayush.ad.sharma@accenture.com', 'Jay', 'Roshankumar', 'lehar.jaiswal@accenture.com', 'retik.gupta@accenture.com', 'Reddy', 'manish.dw.kumar@accenture.com', 'Priya', 'Roshni', 'vanaja.cheerala@accenture.com', 'Chandrashekhar', 'Madithati', 'V.', 'John', 'vivek.u.gupta@accenture.com', 's.sunilkumar.mandal@accenture.com', 'Ashok', 'sivakumar.naganathan@accenture.com', 'nikhil.gahlot@accenture.com', 's.a.kanti.kanjilal@accenture.com', 'omkar.nallagoni@accenture.com', 'sandra.sahajan@accenture.com', 'chaitanya.nelluri@accenture.com']\n"
     ]
    }
   ],
   "source": [
    "file_location=\"emails.txt\"\n",
    "file=open(file_location,encoding='utf-8-sig')\n",
    "list1=[]\n",
    "surname_list=[]\n",
    "name_list=[]\n",
    "email_id_list=[]\n",
    "emails=[]\n",
    "for i in file:\n",
    "    list1=i.split(\";\")\n",
    "for i in list1:\n",
    "    surname_list.append(i.split()[0])\n",
    "    name_list.append(i.split()[1])\n",
    "    email_id_list.append(i.split()[2])\n",
    "    \n",
    "    for i in email_id_list:\n",
    "        emails.append(i.lstrip(\"<\").rstrip(\">\"))\n",
    "        \n",
    "        \n",
    "print(surname_list)\n",
    "print(\"=\"*100)\n",
    "print(name_list)\n",
    "print(\"=\"*100)\n",
    "print(emails)"
   ]
  },
  {
   "cell_type": "code",
   "execution_count": null,
   "id": "77046fce",
   "metadata": {},
   "outputs": [],
   "source": []
  },
  {
   "cell_type": "code",
   "execution_count": null,
   "id": "da6eb453",
   "metadata": {},
   "outputs": [],
   "source": []
  },
  {
   "cell_type": "code",
   "execution_count": null,
   "id": "06b3a4b0",
   "metadata": {},
   "outputs": [],
   "source": []
  },
  {
   "cell_type": "code",
   "execution_count": null,
   "id": "7da683ba",
   "metadata": {},
   "outputs": [],
   "source": []
  },
  {
   "cell_type": "code",
   "execution_count": null,
   "id": "399da335",
   "metadata": {},
   "outputs": [],
   "source": []
  },
  {
   "cell_type": "code",
   "execution_count": null,
   "id": "ca6fb959",
   "metadata": {},
   "outputs": [],
   "source": []
  },
  {
   "cell_type": "code",
   "execution_count": null,
   "id": "069fb4c9",
   "metadata": {},
   "outputs": [],
   "source": []
  },
  {
   "cell_type": "code",
   "execution_count": null,
   "id": "e0277173",
   "metadata": {},
   "outputs": [],
   "source": []
  }
 ],
 "metadata": {
  "kernelspec": {
   "display_name": "Python 3 (ipykernel)",
   "language": "python",
   "name": "python3"
  },
  "language_info": {
   "codemirror_mode": {
    "name": "ipython",
    "version": 3
   },
   "file_extension": ".py",
   "mimetype": "text/x-python",
   "name": "python",
   "nbconvert_exporter": "python",
   "pygments_lexer": "ipython3",
   "version": "3.10.9"
  }
 },
 "nbformat": 4,
 "nbformat_minor": 5
}
